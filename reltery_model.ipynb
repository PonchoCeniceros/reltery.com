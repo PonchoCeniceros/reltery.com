{
  "nbformat": 4,
  "nbformat_minor": 0,
  "metadata": {
    "language_info": {
      "codemirror_mode": {
        "name": "ipython",
        "version": 3
      },
      "file_extension": ".py",
      "mimetype": "text/x-python",
      "name": "python",
      "nbconvert_exporter": "python",
      "pygments_lexer": "ipython3",
      "version": "3.8.5-final"
    },
    "orig_nbformat": 2,
    "kernelspec": {
      "name": "python385jvsc74a57bd088420e6ea5db517d4e735533c5ab4713bdcc8b7033b0af8437ed5a15d233ad11",
      "display_name": "Python 3.8.5 64-bit ('venv')"
    },
    "metadata": {
      "interpreter": {
        "hash": "88420e6ea5db517d4e735533c5ab4713bdcc8b7033b0af8437ed5a15d233ad11"
      }
    },
    "colab": {
      "name": "reltery-model.ipynb",
      "provenance": [],
      "collapsed_sections": []
    },
    "accelerator": "GPU"
  },
  "cells": [
    {
      "cell_type": "markdown",
      "metadata": {
        "id": "dm2sP94cMoPF"
      },
      "source": [
        "# **Reltery.com:** Desarrollo del modelo de inteligencia artificial\n",
        "\n",
        "Giovanny Alfonso Chávez Ceniceros 310831<br/>\n",
        "Luis Carlos Parra Mendoza 307718<br/><br/>\n",
        "\n",
        "**28 de Mayo del 2021**"
      ]
    },
    {
      "cell_type": "markdown",
      "metadata": {
        "id": "kpNVChdRM-Ps"
      },
      "source": [
        "A continuación se presenta el desarrollo del modelo de inteligencia atifical basado en redes reuronales implementado en la aplicación **reltery.com**. Nuestro modelo basado en redes neuronales toma la aspectos fisicos y economicos de tu inmueble. Esta información será procesada por cada neurona de nuestra red para predecir en conjunto el valor que tu inmueble puede tener en el mercado, de forma rápida y confiable."
      ]
    },
    {
      "cell_type": "code",
      "metadata": {
        "id": "-iuhRtC6nqTd"
      },
      "source": [
        "from google.colab import drive"
      ],
      "execution_count": null,
      "outputs": []
    },
    {
      "cell_type": "code",
      "metadata": {
        "colab": {
          "base_uri": "https://localhost:8080/"
        },
        "id": "J_8gMlgrnqqL",
        "outputId": "6ef5dea2-6497-46d0-edae-da78abc8f34c"
      },
      "source": [
        "drive.mount(\"/content/gdrive\")\n",
        "!pwd\n",
        "%cd \"/content/gdrive/My Drive/DATASETS/PROJECT\""
      ],
      "execution_count": null,
      "outputs": [
        {
          "output_type": "stream",
          "text": [
            "Mounted at /content/gdrive\n",
            "/content\n",
            "/content/gdrive/My Drive/DATASETS/PROJECT\n"
          ],
          "name": "stdout"
        }
      ]
    },
    {
      "cell_type": "markdown",
      "metadata": {
        "id": "p1I6fPIMlY2B"
      },
      "source": [
        "## **Procedimiento**\n",
        "Se implementaron los siguientes pasos para la confección de nuestro modelo de redes neuronales, del cual, después del entrenamiento\n",
        "\n",
        "* **(1)** Preprocesamiento del dataset\n",
        "* **(2)** Crear _pipeline_\n",
        "* **(3)** Separar dataset en _train_ y _test_\n",
        "* **(4)** Diseñar arquitectura del modelo\n",
        "* **(5)** Entrenar el modelo y almacenar los pesos\n"
      ]
    },
    {
      "cell_type": "markdown",
      "metadata": {
        "id": "QhT8vND5lY2G"
      },
      "source": [
        "### **Importando librerías**"
      ]
    },
    {
      "cell_type": "code",
      "metadata": {
        "colab": {
          "base_uri": "https://localhost:8080/"
        },
        "id": "4HxIF3prlY2H",
        "outputId": "05ab01be-02da-475b-ad5d-874e5d1a8ecc"
      },
      "source": [
        "# generales\n",
        "import pickle\n",
        "import locale\n",
        "import numpy as np\n",
        "import pandas as pd\n",
        "import tensorflow as tf\n",
        "\n",
        "print('tensorflow version', tf.__version__)"
      ],
      "execution_count": null,
      "outputs": [
        {
          "output_type": "stream",
          "text": [
            "tensorflow version 2.4.1\n"
          ],
          "name": "stdout"
        }
      ]
    },
    {
      "cell_type": "code",
      "metadata": {
        "id": "93x8H0IWlY2K"
      },
      "source": [
        "# para preprocesamiento\n",
        "from sklearn.pipeline import Pipeline\n",
        "from sklearn.compose import ColumnTransformer\n",
        "from sklearn.preprocessing import MinMaxScaler\n",
        "from sklearn.preprocessing import OneHotEncoder\n",
        "from sklearn.model_selection import train_test_split"
      ],
      "execution_count": null,
      "outputs": []
    },
    {
      "cell_type": "code",
      "metadata": {
        "id": "yJll2Of8lY2M"
      },
      "source": [
        "# para el modelo de red neuronal\n",
        "from tensorflow.keras.models import Sequential\n",
        "from tensorflow.keras.layers import Dense\n",
        "from tensorflow.keras.optimizers import Adam"
      ],
      "execution_count": null,
      "outputs": []
    },
    {
      "cell_type": "code",
      "metadata": {
        "id": "AkZd2pYdlY2M"
      },
      "source": [
        "# para plotting:\n",
        "from matplotlib import pyplot as plt"
      ],
      "execution_count": null,
      "outputs": []
    },
    {
      "cell_type": "markdown",
      "metadata": {
        "id": "a7WV2ifLlY2N"
      },
      "source": [
        "### **Extraer el dataset**"
      ]
    },
    {
      "cell_type": "code",
      "metadata": {
        "colab": {
          "base_uri": "https://localhost:8080/",
          "height": 425
        },
        "id": "omj-iCihlY2O",
        "outputId": "b95d2124-b78a-4701-9062-01e27f01b712"
      },
      "source": [
        "df = pd.read_csv('base.csv')\n",
        "df.head()"
      ],
      "execution_count": null,
      "outputs": [
        {
          "output_type": "execute_result",
          "data": {
            "text/html": [
              "<div>\n",
              "<style scoped>\n",
              "    .dataframe tbody tr th:only-of-type {\n",
              "        vertical-align: middle;\n",
              "    }\n",
              "\n",
              "    .dataframe tbody tr th {\n",
              "        vertical-align: top;\n",
              "    }\n",
              "\n",
              "    .dataframe thead th {\n",
              "        text-align: right;\n",
              "    }\n",
              "</style>\n",
              "<table border=\"1\" class=\"dataframe\">\n",
              "  <thead>\n",
              "    <tr style=\"text-align: right;\">\n",
              "      <th></th>\n",
              "      <th>REG1</th>\n",
              "      <th>REG2</th>\n",
              "      <th>REG3</th>\n",
              "      <th>REG4</th>\n",
              "      <th>REG5</th>\n",
              "      <th>REG6</th>\n",
              "      <th>REG7</th>\n",
              "      <th>REG8</th>\n",
              "      <th>REG9</th>\n",
              "      <th>Id</th>\n",
              "      <th>Eu</th>\n",
              "      <th>Cz</th>\n",
              "      <th>Ns</th>\n",
              "      <th>Rp</th>\n",
              "      <th>Ca</th>\n",
              "      <th>Nr</th>\n",
              "      <th>Nb</th>\n",
              "      <th>Sb</th>\n",
              "      <th>Ee</th>\n",
              "      <th>See</th>\n",
              "      <th>Tfr</th>\n",
              "      <th>Tfo</th>\n",
              "      <th>St</th>\n",
              "      <th>Cg</th>\n",
              "      <th>Ec</th>\n",
              "      <th>Cy</th>\n",
              "      <th>Ed</th>\n",
              "      <th>Eu.1</th>\n",
              "      <th>Sh</th>\n",
              "      <th>Ssh</th>\n",
              "      <th>Sv</th>\n",
              "      <th>Cus</th>\n",
              "      <th>$T</th>\n",
              "      <th>$C</th>\n",
              "      <th>Vt</th>\n",
              "      <th>Vo</th>\n",
              "      <th>Va</th>\n",
              "      <th>Vf</th>\n",
              "      <th>$M</th>\n",
              "      <th>$Mn</th>\n",
              "      <th>Vm</th>\n",
              "      <th>Vmn</th>\n",
              "      <th>Vco</th>\n",
              "    </tr>\n",
              "  </thead>\n",
              "  <tbody>\n",
              "    <tr>\n",
              "      <th>0</th>\n",
              "      <td>1</td>\n",
              "      <td>75</td>\n",
              "      <td>75</td>\n",
              "      <td>5362</td>\n",
              "      <td>41568</td>\n",
              "      <td>41823</td>\n",
              "      <td>TEPORACA NO 8601</td>\n",
              "      <td>15 DE ENERO</td>\n",
              "      <td>0</td>\n",
              "      <td>3</td>\n",
              "      <td>4</td>\n",
              "      <td>2</td>\n",
              "      <td>1</td>\n",
              "      <td>2</td>\n",
              "      <td>1</td>\n",
              "      <td>2</td>\n",
              "      <td>1</td>\n",
              "      <td>1.0</td>\n",
              "      <td>0.0</td>\n",
              "      <td>1</td>\n",
              "      <td>12.20</td>\n",
              "      <td>20.00</td>\n",
              "      <td>244.00</td>\n",
              "      <td>2</td>\n",
              "      <td>3</td>\n",
              "      <td>1</td>\n",
              "      <td>84</td>\n",
              "      <td>756</td>\n",
              "      <td>75.55</td>\n",
              "      <td>75.55</td>\n",
              "      <td>75.55</td>\n",
              "      <td>0.310</td>\n",
              "      <td>634.0</td>\n",
              "      <td>3276.000</td>\n",
              "      <td>154696.00</td>\n",
              "      <td>247501.80</td>\n",
              "      <td>39210.96</td>\n",
              "      <td>441408.76</td>\n",
              "      <td>6288.990</td>\n",
              "      <td>5769.983</td>\n",
              "      <td>475133.19</td>\n",
              "      <td>435922.23</td>\n",
              "      <td>475000.0</td>\n",
              "    </tr>\n",
              "    <tr>\n",
              "      <th>1</th>\n",
              "      <td>1</td>\n",
              "      <td>111</td>\n",
              "      <td>115</td>\n",
              "      <td>5297</td>\n",
              "      <td>41415</td>\n",
              "      <td>41759</td>\n",
              "      <td>GABRIEL TEPORAME ANTES TEPORACA NO.2214</td>\n",
              "      <td>17 DE JUNIO</td>\n",
              "      <td>INFONAVIT</td>\n",
              "      <td>3</td>\n",
              "      <td>4</td>\n",
              "      <td>2</td>\n",
              "      <td>1</td>\n",
              "      <td>2</td>\n",
              "      <td>1</td>\n",
              "      <td>3</td>\n",
              "      <td>1</td>\n",
              "      <td>1.0</td>\n",
              "      <td>1.0</td>\n",
              "      <td>1</td>\n",
              "      <td>9.00</td>\n",
              "      <td>17.00</td>\n",
              "      <td>153.00</td>\n",
              "      <td>1</td>\n",
              "      <td>3</td>\n",
              "      <td>1</td>\n",
              "      <td>60</td>\n",
              "      <td>660</td>\n",
              "      <td>109.41</td>\n",
              "      <td>109.41</td>\n",
              "      <td>109.41</td>\n",
              "      <td>0.715</td>\n",
              "      <td>281.6</td>\n",
              "      <td>2576.000</td>\n",
              "      <td>43084.80</td>\n",
              "      <td>281840.16</td>\n",
              "      <td>0.00</td>\n",
              "      <td>324924.96</td>\n",
              "      <td>3201.491</td>\n",
              "      <td>3201.491</td>\n",
              "      <td>350275.12</td>\n",
              "      <td>350275.12</td>\n",
              "      <td>350000.0</td>\n",
              "    </tr>\n",
              "    <tr>\n",
              "      <th>2</th>\n",
              "      <td>1</td>\n",
              "      <td>63</td>\n",
              "      <td>63</td>\n",
              "      <td>5265</td>\n",
              "      <td>41331</td>\n",
              "      <td>41548</td>\n",
              "      <td>LULU CREEL MULLER NO.8010</td>\n",
              "      <td>17 DE JUNIO</td>\n",
              "      <td>INFONAVIT</td>\n",
              "      <td>3</td>\n",
              "      <td>4</td>\n",
              "      <td>2</td>\n",
              "      <td>1</td>\n",
              "      <td>2</td>\n",
              "      <td>1</td>\n",
              "      <td>3</td>\n",
              "      <td>1</td>\n",
              "      <td>1.0</td>\n",
              "      <td>0.0</td>\n",
              "      <td>2</td>\n",
              "      <td>10.64</td>\n",
              "      <td>17.37</td>\n",
              "      <td>197.09</td>\n",
              "      <td>1</td>\n",
              "      <td>3</td>\n",
              "      <td>1</td>\n",
              "      <td>240</td>\n",
              "      <td>480</td>\n",
              "      <td>116.09</td>\n",
              "      <td>116.09</td>\n",
              "      <td>116.09</td>\n",
              "      <td>0.589</td>\n",
              "      <td>712.0</td>\n",
              "      <td>2310.000</td>\n",
              "      <td>140328.08</td>\n",
              "      <td>268167.90</td>\n",
              "      <td>46728.48</td>\n",
              "      <td>455224.46</td>\n",
              "      <td>4303.370</td>\n",
              "      <td>3900.851</td>\n",
              "      <td>499578.22</td>\n",
              "      <td>452849.74</td>\n",
              "      <td>500000.0</td>\n",
              "    </tr>\n",
              "    <tr>\n",
              "      <th>3</th>\n",
              "      <td>1</td>\n",
              "      <td>42</td>\n",
              "      <td>42</td>\n",
              "      <td>5519</td>\n",
              "      <td>41954</td>\n",
              "      <td>41155</td>\n",
              "      <td>MAURICIO CORREDOR NO.8010</td>\n",
              "      <td>17 DE JUNIO</td>\n",
              "      <td>BANCO NACIONAL DEL EJERCITO</td>\n",
              "      <td>3</td>\n",
              "      <td>4</td>\n",
              "      <td>2</td>\n",
              "      <td>1</td>\n",
              "      <td>2</td>\n",
              "      <td>1</td>\n",
              "      <td>2</td>\n",
              "      <td>1</td>\n",
              "      <td>1.0</td>\n",
              "      <td>1.0</td>\n",
              "      <td>1</td>\n",
              "      <td>8.21</td>\n",
              "      <td>17.27</td>\n",
              "      <td>114.59</td>\n",
              "      <td>1</td>\n",
              "      <td>3</td>\n",
              "      <td>1</td>\n",
              "      <td>156</td>\n",
              "      <td>564</td>\n",
              "      <td>77.17</td>\n",
              "      <td>77.17</td>\n",
              "      <td>80.31</td>\n",
              "      <td>0.673</td>\n",
              "      <td>920.0</td>\n",
              "      <td>4646.338</td>\n",
              "      <td>105422.80</td>\n",
              "      <td>373147.37</td>\n",
              "      <td>34875.20</td>\n",
              "      <td>513445.37</td>\n",
              "      <td>5099.378</td>\n",
              "      <td>4647.451</td>\n",
              "      <td>393519.00</td>\n",
              "      <td>358643.80</td>\n",
              "      <td>393500.0</td>\n",
              "    </tr>\n",
              "    <tr>\n",
              "      <th>4</th>\n",
              "      <td>1</td>\n",
              "      <td>113</td>\n",
              "      <td>116</td>\n",
              "      <td>5332</td>\n",
              "      <td>41495</td>\n",
              "      <td>41354</td>\n",
              "      <td>TEPORACA NO.2200</td>\n",
              "      <td>17 DE JUNIO</td>\n",
              "      <td>INFONAVIT</td>\n",
              "      <td>3</td>\n",
              "      <td>4</td>\n",
              "      <td>2</td>\n",
              "      <td>1</td>\n",
              "      <td>2</td>\n",
              "      <td>1</td>\n",
              "      <td>2</td>\n",
              "      <td>1</td>\n",
              "      <td>1.0</td>\n",
              "      <td>1.0</td>\n",
              "      <td>1</td>\n",
              "      <td>8.00</td>\n",
              "      <td>17.00</td>\n",
              "      <td>134.30</td>\n",
              "      <td>1</td>\n",
              "      <td>3</td>\n",
              "      <td>1</td>\n",
              "      <td>60</td>\n",
              "      <td>660</td>\n",
              "      <td>98.30</td>\n",
              "      <td>98.30</td>\n",
              "      <td>98.30</td>\n",
              "      <td>0.732</td>\n",
              "      <td>713.0</td>\n",
              "      <td>3255.000</td>\n",
              "      <td>95755.90</td>\n",
              "      <td>319966.50</td>\n",
              "      <td>22104.20</td>\n",
              "      <td>437826.60</td>\n",
              "      <td>4470.700</td>\n",
              "      <td>4245.835</td>\n",
              "      <td>439469.81</td>\n",
              "      <td>417365.61</td>\n",
              "      <td>439000.0</td>\n",
              "    </tr>\n",
              "  </tbody>\n",
              "</table>\n",
              "</div>"
            ],
            "text/plain": [
              "   REG1  REG2  REG3  REG4  ...       $Mn         Vm        Vmn       Vco\n",
              "0     1    75    75  5362  ...  5769.983  475133.19  435922.23  475000.0\n",
              "1     1   111   115  5297  ...  3201.491  350275.12  350275.12  350000.0\n",
              "2     1    63    63  5265  ...  3900.851  499578.22  452849.74  500000.0\n",
              "3     1    42    42  5519  ...  4647.451  393519.00  358643.80  393500.0\n",
              "4     1   113   116  5332  ...  4245.835  439469.81  417365.61  439000.0\n",
              "\n",
              "[5 rows x 43 columns]"
            ]
          },
          "metadata": {
            "tags": []
          },
          "execution_count": 8
        }
      ]
    },
    {
      "cell_type": "markdown",
      "metadata": {
        "id": "g3G0eYkulY2P"
      },
      "source": [
        "### **Procesar los datos**\n",
        "Se desarrollan herramientas especiales para el procesamiento de los datos a partir del objeto ```Pandas.DataFrame```:"
      ]
    },
    {
      "cell_type": "code",
      "metadata": {
        "id": "z1lgyhshlY2P"
      },
      "source": [
        "class Preprocessor:\n",
        "  def __init__(self):\n",
        "    # etiquetas del información del registro inmobiliario\n",
        "    self.R = ['REG1', 'REG2', 'REG3', 'REG4', 'REG5', 'REG6', 'REG7', 'REG8', 'REG9']\n",
        "    # etiquetas de los datos categoricos\n",
        "    self.C = ['Id', 'Eu', 'Cz', 'Ns', 'Rp', 'Ca', 'Cg', 'Ec']\n",
        "    # etiquetas de los datos numericos\n",
        "    self.N = ['Nr', 'Nb', 'Sb', 'Ee', 'See', 'Tfr', 'Tfo', 'St', 'Cy', 'Ed', 'Eu.1',\n",
        "              'Sh', 'Ssh', 'Sv', 'Cus', '$T', '$C', 'Vt', 'Vo', 'Va', 'Vf', '$M',\n",
        "              '$Mn', 'Vm', 'Vmn']\n",
        "\n",
        "  def retrieve(self, X):\n",
        "    X.drop(self.R, axis=1, inplace=True)    \n",
        "    y = pd.DataFrame(X['Vco'], columns=['Vco'])\n",
        "    X.drop('Vco', axis=1, inplace=True)\n",
        "    return X, y\n",
        "\n",
        "  def drop_categories(self, X):\n",
        "    X.drop(self.R + self.C, axis=1, inplace=True)\n",
        "    y = pd.DataFrame(X['Vco'], columns=['Vco'])\n",
        "    X.drop('Vco', axis=1, inplace=True)\n",
        "    return X, y\n",
        "\n",
        "  def drop_except(self, X, features):\n",
        "    feats = [feat for feat in self.N if feat not in features]\n",
        "    X.drop(self.R + self.C, axis=1, inplace=True)\n",
        "    X.drop(feats, axis=1, inplace=True)\n",
        "    y = pd.DataFrame(X['Vco'], columns=['Vco'])\n",
        "    X.drop('Vco', axis=1, inplace=True)\n",
        "    return X, y"
      ],
      "execution_count": null,
      "outputs": []
    },
    {
      "cell_type": "markdown",
      "metadata": {
        "id": "cj43_LztqhZl"
      },
      "source": [
        "\n",
        "De la totalidad de los features existentes en los datos, se seleccionan los más indicados considerando la usabilidad del lado del usuario y el rendimiento por parte del modelo a implementar:\n",
        "\n",
        "### __Features__\n",
        "\n",
        "* **Nr**:   numero de recamaras\n",
        "* **Nb**:   numero de baños completos\n",
        "* **Sb**:   suma de baños\n",
        "* **Ee**:   estacionamiento descubiertos\n",
        "* **See**:  suma de estacionamientos\n",
        "* **Tfr**:  Tamaño del terreno en frente\n",
        "* **Tfo**:  Tamaño del terremo en fondo\n",
        "* **St**:   superficie del terreno en el estudio\n",
        "* **Ed**:   edad aproximada de la construccion en meses\n",
        "* **\\$M**:  monto unitario aplicable para el valor de mercado\n",
        "* **\\$Mn**: monto unitario de mercado sin areas y elementos adicionales\n",
        "* **Vm**:   valor comparatvo de mercado\n",
        "* **Vmn**:  valor de mercado -Areas y elementos adicionales-\n",
        "\n",
        "### __Target__\n",
        "* **Vco**:  Valor concluido"
      ]
    },
    {
      "cell_type": "code",
      "metadata": {
        "id": "6G6S8Updqhrl"
      },
      "source": [
        "feats = ['Nr', 'Nb', 'Sb', 'Ee', 'See', 'Tfr', 'Tfo', 'St', 'Ed', '$M', '$Mn', 'Vm', 'Vmn']"
      ],
      "execution_count": null,
      "outputs": []
    },
    {
      "cell_type": "code",
      "metadata": {
        "colab": {
          "base_uri": "https://localhost:8080/",
          "height": 198
        },
        "id": "SrABg7cJpZp0",
        "outputId": "c6416b7b-82b8-46ba-efb4-4103f17bcd64"
      },
      "source": [
        "X, y = Preprocessor().drop_except(X=df.copy(), features=feats)\n",
        "X.head()"
      ],
      "execution_count": null,
      "outputs": [
        {
          "output_type": "execute_result",
          "data": {
            "text/html": [
              "<div>\n",
              "<style scoped>\n",
              "    .dataframe tbody tr th:only-of-type {\n",
              "        vertical-align: middle;\n",
              "    }\n",
              "\n",
              "    .dataframe tbody tr th {\n",
              "        vertical-align: top;\n",
              "    }\n",
              "\n",
              "    .dataframe thead th {\n",
              "        text-align: right;\n",
              "    }\n",
              "</style>\n",
              "<table border=\"1\" class=\"dataframe\">\n",
              "  <thead>\n",
              "    <tr style=\"text-align: right;\">\n",
              "      <th></th>\n",
              "      <th>Nr</th>\n",
              "      <th>Nb</th>\n",
              "      <th>Sb</th>\n",
              "      <th>Ee</th>\n",
              "      <th>See</th>\n",
              "      <th>Tfr</th>\n",
              "      <th>Tfo</th>\n",
              "      <th>St</th>\n",
              "      <th>Ed</th>\n",
              "      <th>$M</th>\n",
              "      <th>$Mn</th>\n",
              "      <th>Vm</th>\n",
              "      <th>Vmn</th>\n",
              "    </tr>\n",
              "  </thead>\n",
              "  <tbody>\n",
              "    <tr>\n",
              "      <th>0</th>\n",
              "      <td>2</td>\n",
              "      <td>1</td>\n",
              "      <td>1.0</td>\n",
              "      <td>0.0</td>\n",
              "      <td>1</td>\n",
              "      <td>12.20</td>\n",
              "      <td>20.00</td>\n",
              "      <td>244.00</td>\n",
              "      <td>84</td>\n",
              "      <td>6288.990</td>\n",
              "      <td>5769.983</td>\n",
              "      <td>475133.19</td>\n",
              "      <td>435922.23</td>\n",
              "    </tr>\n",
              "    <tr>\n",
              "      <th>1</th>\n",
              "      <td>3</td>\n",
              "      <td>1</td>\n",
              "      <td>1.0</td>\n",
              "      <td>1.0</td>\n",
              "      <td>1</td>\n",
              "      <td>9.00</td>\n",
              "      <td>17.00</td>\n",
              "      <td>153.00</td>\n",
              "      <td>60</td>\n",
              "      <td>3201.491</td>\n",
              "      <td>3201.491</td>\n",
              "      <td>350275.12</td>\n",
              "      <td>350275.12</td>\n",
              "    </tr>\n",
              "    <tr>\n",
              "      <th>2</th>\n",
              "      <td>3</td>\n",
              "      <td>1</td>\n",
              "      <td>1.0</td>\n",
              "      <td>0.0</td>\n",
              "      <td>2</td>\n",
              "      <td>10.64</td>\n",
              "      <td>17.37</td>\n",
              "      <td>197.09</td>\n",
              "      <td>240</td>\n",
              "      <td>4303.370</td>\n",
              "      <td>3900.851</td>\n",
              "      <td>499578.22</td>\n",
              "      <td>452849.74</td>\n",
              "    </tr>\n",
              "    <tr>\n",
              "      <th>3</th>\n",
              "      <td>2</td>\n",
              "      <td>1</td>\n",
              "      <td>1.0</td>\n",
              "      <td>1.0</td>\n",
              "      <td>1</td>\n",
              "      <td>8.21</td>\n",
              "      <td>17.27</td>\n",
              "      <td>114.59</td>\n",
              "      <td>156</td>\n",
              "      <td>5099.378</td>\n",
              "      <td>4647.451</td>\n",
              "      <td>393519.00</td>\n",
              "      <td>358643.80</td>\n",
              "    </tr>\n",
              "    <tr>\n",
              "      <th>4</th>\n",
              "      <td>2</td>\n",
              "      <td>1</td>\n",
              "      <td>1.0</td>\n",
              "      <td>1.0</td>\n",
              "      <td>1</td>\n",
              "      <td>8.00</td>\n",
              "      <td>17.00</td>\n",
              "      <td>134.30</td>\n",
              "      <td>60</td>\n",
              "      <td>4470.700</td>\n",
              "      <td>4245.835</td>\n",
              "      <td>439469.81</td>\n",
              "      <td>417365.61</td>\n",
              "    </tr>\n",
              "  </tbody>\n",
              "</table>\n",
              "</div>"
            ],
            "text/plain": [
              "   Nr  Nb   Sb   Ee  See  ...   Ed        $M       $Mn         Vm        Vmn\n",
              "0   2   1  1.0  0.0    1  ...   84  6288.990  5769.983  475133.19  435922.23\n",
              "1   3   1  1.0  1.0    1  ...   60  3201.491  3201.491  350275.12  350275.12\n",
              "2   3   1  1.0  0.0    2  ...  240  4303.370  3900.851  499578.22  452849.74\n",
              "3   2   1  1.0  1.0    1  ...  156  5099.378  4647.451  393519.00  358643.80\n",
              "4   2   1  1.0  1.0    1  ...   60  4470.700  4245.835  439469.81  417365.61\n",
              "\n",
              "[5 rows x 13 columns]"
            ]
          },
          "metadata": {
            "tags": []
          },
          "execution_count": 11
        }
      ]
    },
    {
      "cell_type": "code",
      "metadata": {
        "colab": {
          "base_uri": "https://localhost:8080/",
          "height": 198
        },
        "id": "XV7XTqlxHVOB",
        "outputId": "7bf2f22a-9356-4d0a-acd2-c425d77cea03"
      },
      "source": [
        "y.head()"
      ],
      "execution_count": null,
      "outputs": [
        {
          "output_type": "execute_result",
          "data": {
            "text/html": [
              "<div>\n",
              "<style scoped>\n",
              "    .dataframe tbody tr th:only-of-type {\n",
              "        vertical-align: middle;\n",
              "    }\n",
              "\n",
              "    .dataframe tbody tr th {\n",
              "        vertical-align: top;\n",
              "    }\n",
              "\n",
              "    .dataframe thead th {\n",
              "        text-align: right;\n",
              "    }\n",
              "</style>\n",
              "<table border=\"1\" class=\"dataframe\">\n",
              "  <thead>\n",
              "    <tr style=\"text-align: right;\">\n",
              "      <th></th>\n",
              "      <th>Vco</th>\n",
              "    </tr>\n",
              "  </thead>\n",
              "  <tbody>\n",
              "    <tr>\n",
              "      <th>0</th>\n",
              "      <td>475000.0</td>\n",
              "    </tr>\n",
              "    <tr>\n",
              "      <th>1</th>\n",
              "      <td>350000.0</td>\n",
              "    </tr>\n",
              "    <tr>\n",
              "      <th>2</th>\n",
              "      <td>500000.0</td>\n",
              "    </tr>\n",
              "    <tr>\n",
              "      <th>3</th>\n",
              "      <td>393500.0</td>\n",
              "    </tr>\n",
              "    <tr>\n",
              "      <th>4</th>\n",
              "      <td>439000.0</td>\n",
              "    </tr>\n",
              "  </tbody>\n",
              "</table>\n",
              "</div>"
            ],
            "text/plain": [
              "        Vco\n",
              "0  475000.0\n",
              "1  350000.0\n",
              "2  500000.0\n",
              "3  393500.0\n",
              "4  439000.0"
            ]
          },
          "metadata": {
            "tags": []
          },
          "execution_count": 20
        }
      ]
    },
    {
      "cell_type": "markdown",
      "metadata": {
        "id": "1Rjj5j1plY2R"
      },
      "source": [
        "### **Implementar un _pipeline_**"
      ]
    },
    {
      "cell_type": "code",
      "metadata": {
        "id": "XHt4NY2ZsBWr"
      },
      "source": [
        "numPipe = Pipeline([\n",
        "  ('minMax', MinMaxScaler())\n",
        "])\n",
        "\n",
        "prep = ColumnTransformer(transformers=[\n",
        "        ('num', numPipe, feats)\n",
        "        ])"
      ],
      "execution_count": null,
      "outputs": []
    },
    {
      "cell_type": "code",
      "metadata": {
        "id": "0WSsiGeGlY2S"
      },
      "source": [
        "_xTrain, _xTest, _yTrain, _yTest = train_test_split(X, y, test_size=0.2)"
      ],
      "execution_count": null,
      "outputs": []
    },
    {
      "cell_type": "code",
      "metadata": {
        "id": "knIrvTWwlY2V"
      },
      "source": [
        "# aplicamos el pipeline para ambas particiones del dataset\n",
        "prepPipe = Pipeline([('prep', prep)])\n",
        "\n",
        "xTrain = prepPipe.fit_transform(_xTrain)\n",
        "xTest  = prepPipe.transform(_xTest)"
      ],
      "execution_count": null,
      "outputs": []
    },
    {
      "cell_type": "code",
      "metadata": {
        "id": "2EYmF-_clY2W"
      },
      "source": [
        "yTrain = np.array(_yTrain).ravel()\n",
        "yTest  = np.array(_yTest).ravel()"
      ],
      "execution_count": null,
      "outputs": []
    },
    {
      "cell_type": "code",
      "metadata": {
        "id": "2PgLOiEdvZ8v",
        "colab": {
          "base_uri": "https://localhost:8080/"
        },
        "outputId": "e080e63d-06a5-4d95-f8ed-af87c9372390"
      },
      "source": [
        "xTrain[:1]"
      ],
      "execution_count": null,
      "outputs": [
        {
          "output_type": "execute_result",
          "data": {
            "text/plain": [
              "array([[0.16666667, 0.        , 0.        , 0.        , 0.25      ,\n",
              "        0.095625  , 0.26702435, 0.04929382, 0.26153846, 0.20203263,\n",
              "        0.19029411, 0.05964024, 0.05581824]])"
            ]
          },
          "metadata": {
            "tags": []
          },
          "execution_count": 16
        }
      ]
    },
    {
      "cell_type": "code",
      "metadata": {
        "colab": {
          "base_uri": "https://localhost:8080/"
        },
        "id": "2GrqqlRKG8ze",
        "outputId": "b0a0c603-bf56-422f-dc02-4fde4fbbbdac"
      },
      "source": [
        "xTest[:1]"
      ],
      "execution_count": null,
      "outputs": [
        {
          "output_type": "execute_result",
          "data": {
            "text/plain": [
              "array([[0.33333333, 0.25      , 0.33333333, 0.        , 0.5       ,\n",
              "        0.171875  , 0.26826248, 0.08381998, 0.03076923, 0.4565158 ,\n",
              "        0.44258609, 0.24435155, 0.23366256]])"
            ]
          },
          "metadata": {
            "tags": []
          },
          "execution_count": 17
        }
      ]
    },
    {
      "cell_type": "markdown",
      "metadata": {
        "id": "lLxZewY9lY2N"
      },
      "source": [
        "### **Modelo de red neuronal para regresión**"
      ]
    },
    {
      "cell_type": "code",
      "metadata": {
        "id": "04JCRMBdlY2N"
      },
      "source": [
        "def MLP(dim, regress=False):\n",
        "\t# definir nuestro modelo\n",
        "    model = Sequential()\n",
        "    model.add(Dense(8, input_dim=dim, activation=\"relu\"))\n",
        "    model.add(Dense(4, activation=\"relu\"))\n",
        "\t# verificar si se debe agregar el nodo de regresión\n",
        "    if regress:\n",
        "        model.add(Dense(1, activation=\"linear\"))\n",
        "\t# regresar el modelo\n",
        "    return model"
      ],
      "execution_count": null,
      "outputs": []
    },
    {
      "cell_type": "markdown",
      "metadata": {
        "id": "ObWcZhh9lY2W"
      },
      "source": [
        "### **Compilar y entrenar el modelo de red neuronal**"
      ]
    },
    {
      "cell_type": "code",
      "metadata": {
        "colab": {
          "base_uri": "https://localhost:8080/"
        },
        "id": "K_YUKQhnlY2W",
        "outputId": "226add48-2a76-4f13-ec40-f0a641b440b1"
      },
      "source": [
        "model = MLP(xTrain.shape[1], regress=True)\n",
        "opt = Adam(lr=1e-3, decay=1e-3 / 200)\n",
        "model.compile(loss=\"mean_absolute_percentage_error\", optimizer=opt, metrics=['mae', 'mse'])\n",
        "model.summary()"
      ],
      "execution_count": null,
      "outputs": [
        {
          "output_type": "stream",
          "text": [
            "Model: \"sequential\"\n",
            "_________________________________________________________________\n",
            "Layer (type)                 Output Shape              Param #   \n",
            "=================================================================\n",
            "dense (Dense)                (None, 8)                 112       \n",
            "_________________________________________________________________\n",
            "dense_1 (Dense)              (None, 4)                 36        \n",
            "_________________________________________________________________\n",
            "dense_2 (Dense)              (None, 1)                 5         \n",
            "=================================================================\n",
            "Total params: 153\n",
            "Trainable params: 153\n",
            "Non-trainable params: 0\n",
            "_________________________________________________________________\n"
          ],
          "name": "stdout"
        }
      ]
    },
    {
      "cell_type": "code",
      "metadata": {
        "id": "lliEWgUHfqRs"
      },
      "source": [
        "# cargar un modelo previo para no realizar un entrenamiento desde cero\n",
        "model.load_weights('MLP_WEIGHTS.h5')"
      ],
      "execution_count": null,
      "outputs": []
    },
    {
      "cell_type": "code",
      "metadata": {
        "tags": [],
        "id": "C7-SK4rLlY2X"
      },
      "source": [
        "# entrenamos el modelo planteado\n",
        "metrics = model.fit(x=xTrain, y=yTrain,\n",
        "                    validation_data=(xTest, yTest),\n",
        "                    epochs=10000,\n",
        "                    batch_size=8,\n",
        "                    verbose=1)"
      ],
      "execution_count": null,
      "outputs": []
    },
    {
      "cell_type": "code",
      "metadata": {
        "id": "ZG9KKwTIlY2Y"
      },
      "source": [
        "# guardar el modelo de la red\n",
        "model.save_weights('MLP_WEIGHTS.h5')"
      ],
      "execution_count": null,
      "outputs": []
    },
    {
      "cell_type": "code",
      "metadata": {
        "id": "KRrBKclRgei1"
      },
      "source": [
        "jsonModel = model.to_json()\n",
        "with open(\"MLP_MODEL.json\", \"w\") as jsonFile:\n",
        "    jsonFile.write(jsonModel)"
      ],
      "execution_count": null,
      "outputs": []
    },
    {
      "cell_type": "markdown",
      "metadata": {
        "id": "3k2wyJkhlY2Z"
      },
      "source": [
        "### **Métricas de desempeño**"
      ]
    },
    {
      "cell_type": "code",
      "metadata": {
        "colab": {
          "base_uri": "https://localhost:8080/",
          "height": 283
        },
        "id": "zPpG6_oTlY2Z",
        "outputId": "e8a6b6b4-95bd-4cfa-9036-c2f140685be5"
      },
      "source": [
        "plt.plot(metrics.history[\"loss\"], label=\"loss\")\n",
        "plt.legend()"
      ],
      "execution_count": null,
      "outputs": [
        {
          "output_type": "execute_result",
          "data": {
            "text/plain": [
              "<matplotlib.legend.Legend at 0x7f1b7e063510>"
            ]
          },
          "metadata": {
            "tags": []
          },
          "execution_count": 20
        },
        {
          "output_type": "display_data",
          "data": {
            "image/png": "[encoded data removed]",
            "text/plain": [
              "<Figure size 432x288 with 1 Axes>"
            ]
          },
          "metadata": {
            "tags": [],
            "needs_background": "light"
          }
        }
      ]
    },
    {
      "cell_type": "code",
      "metadata": {
        "colab": {
          "base_uri": "https://localhost:8080/",
          "height": 198
        },
        "id": "sQ1aCm05lY2a",
        "outputId": "e081d153-2264-4149-db0d-66b2f8ca4933"
      },
      "source": [
        "hist = pd.DataFrame(metrics.history)\n",
        "hist['epoch'] = metrics.epoch\n",
        "hist.tail()"
      ],
      "execution_count": null,
      "outputs": [
        {
          "output_type": "execute_result",
          "data": {
            "text/html": [
              "<div>\n",
              "<style scoped>\n",
              "    .dataframe tbody tr th:only-of-type {\n",
              "        vertical-align: middle;\n",
              "    }\n",
              "\n",
              "    .dataframe tbody tr th {\n",
              "        vertical-align: top;\n",
              "    }\n",
              "\n",
              "    .dataframe thead th {\n",
              "        text-align: right;\n",
              "    }\n",
              "</style>\n",
              "<table border=\"1\" class=\"dataframe\">\n",
              "  <thead>\n",
              "    <tr style=\"text-align: right;\">\n",
              "      <th></th>\n",
              "      <th>loss</th>\n",
              "      <th>mae</th>\n",
              "      <th>mse</th>\n",
              "      <th>val_loss</th>\n",
              "      <th>val_mae</th>\n",
              "      <th>val_mse</th>\n",
              "      <th>epoch</th>\n",
              "    </tr>\n",
              "  </thead>\n",
              "  <tbody>\n",
              "    <tr>\n",
              "      <th>9995</th>\n",
              "      <td>0.832373</td>\n",
              "      <td>6720.269043</td>\n",
              "      <td>577980928.0</td>\n",
              "      <td>1.002072</td>\n",
              "      <td>7689.338867</td>\n",
              "      <td>1.002929e+09</td>\n",
              "      <td>9995</td>\n",
              "    </tr>\n",
              "    <tr>\n",
              "      <th>9996</th>\n",
              "      <td>0.832439</td>\n",
              "      <td>6719.728516</td>\n",
              "      <td>577950272.0</td>\n",
              "      <td>1.001319</td>\n",
              "      <td>7680.969238</td>\n",
              "      <td>1.002332e+09</td>\n",
              "      <td>9996</td>\n",
              "    </tr>\n",
              "    <tr>\n",
              "      <th>9997</th>\n",
              "      <td>0.832221</td>\n",
              "      <td>6718.857422</td>\n",
              "      <td>578005056.0</td>\n",
              "      <td>1.001987</td>\n",
              "      <td>7688.701172</td>\n",
              "      <td>1.002904e+09</td>\n",
              "      <td>9997</td>\n",
              "    </tr>\n",
              "    <tr>\n",
              "      <th>9998</th>\n",
              "      <td>0.832194</td>\n",
              "      <td>6719.090820</td>\n",
              "      <td>577922560.0</td>\n",
              "      <td>1.001967</td>\n",
              "      <td>7688.647949</td>\n",
              "      <td>1.002906e+09</td>\n",
              "      <td>9998</td>\n",
              "    </tr>\n",
              "    <tr>\n",
              "      <th>9999</th>\n",
              "      <td>0.832147</td>\n",
              "      <td>6718.462402</td>\n",
              "      <td>577922432.0</td>\n",
              "      <td>1.001971</td>\n",
              "      <td>7689.000000</td>\n",
              "      <td>1.002929e+09</td>\n",
              "      <td>9999</td>\n",
              "    </tr>\n",
              "  </tbody>\n",
              "</table>\n",
              "</div>"
            ],
            "text/plain": [
              "          loss          mae          mse  ...      val_mae       val_mse  epoch\n",
              "9995  0.832373  6720.269043  577980928.0  ...  7689.338867  1.002929e+09   9995\n",
              "9996  0.832439  6719.728516  577950272.0  ...  7680.969238  1.002332e+09   9996\n",
              "9997  0.832221  6718.857422  578005056.0  ...  7688.701172  1.002904e+09   9997\n",
              "9998  0.832194  6719.090820  577922560.0  ...  7688.647949  1.002906e+09   9998\n",
              "9999  0.832147  6718.462402  577922432.0  ...  7689.000000  1.002929e+09   9999\n",
              "\n",
              "[5 rows x 7 columns]"
            ]
          },
          "metadata": {
            "tags": []
          },
          "execution_count": 21
        }
      ]
    },
    {
      "cell_type": "code",
      "metadata": {
        "colab": {
          "base_uri": "https://localhost:8080/"
        },
        "id": "bEab-MtblY2b",
        "outputId": "3a2c0356-3bc8-418a-f902-67fba6647e9c"
      },
      "source": [
        "mlpPreds = model.predict(xTest)\n",
        "mlpPreds[:5]"
      ],
      "execution_count": null,
      "outputs": [
        {
          "output_type": "execute_result",
          "data": {
            "text/plain": [
              "array([[ 523812.44],\n",
              "       [ 493599.7 ],\n",
              "       [1770074.4 ],\n",
              "       [2854856.  ],\n",
              "       [ 192145.47]], dtype=float32)"
            ]
          },
          "metadata": {
            "tags": []
          },
          "execution_count": 24
        }
      ]
    },
    {
      "cell_type": "code",
      "metadata": {
        "id": "UmrwwsBqlY2c"
      },
      "source": [
        "diff = mlpPreds.flatten() - yTest\n",
        "percentDiff = (diff / yTest) * 100\n",
        "absPercentDiff = np.abs(percentDiff)"
      ],
      "execution_count": null,
      "outputs": []
    },
    {
      "cell_type": "code",
      "metadata": {
        "id": "hfK3q-3rlY2d"
      },
      "source": [
        "mean = np.mean(absPercentDiff)\n",
        "std = np.std(absPercentDiff)"
      ],
      "execution_count": null,
      "outputs": []
    },
    {
      "cell_type": "code",
      "metadata": {
        "colab": {
          "base_uri": "https://localhost:8080/"
        },
        "id": "JSpLAQEAlY2d",
        "outputId": "7eeaf8cb-8bb5-451d-aa23-7d6ad7d0413f"
      },
      "source": [
        "print('μ: {} σ: {}'.format(y.mean()[0], y.std()[0]))\n",
        "print('μ: {} σ: {}'.format(mean, std))"
      ],
      "execution_count": null,
      "outputs": [
        {
          "output_type": "stream",
          "text": [
            "μ: 716946.7244703511 σ: 600210.0883233249\n",
            "μ: 0.7237254765350293 σ: 1.1117406669002527\n"
          ],
          "name": "stdout"
        }
      ]
    }
  ]
}